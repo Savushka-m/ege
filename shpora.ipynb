{
 "cells": [
  {
   "cell_type": "code",
   "execution_count": null,
   "id": "b45fb84d",
   "metadata": {},
   "outputs": [],
   "source": [
    "# Полезные кусочки кода\n",
    "t = sum([int(x) for x in s]) # находим сумму цифр в строке s\n",
    "t = s.count('5') # находим сколько раз встречается цифра 5 (или другая которую укажете) в строке s\n",
    "if int(x**0.5)**2 == x: # проверка что число x является полным квадратом\n",
    "\n",
    "#перевод числа в 11-ричную (используем если переводим в систему счисления больше 10)\n",
    "sp = []\n",
    "while a > 0: \n",
    "    sp.append(a % 11)  \n",
    "    a = a // 11\n",
    "\n",
    "#перевод числа в троичную (используем если переводим в систему счисления меньше 10)\n",
    "s = ''\n",
    "while n > 0:\n",
    "    s = str(n % 3) + s\n",
    "    n = n // 3\n",
    "\n",
    "# как найти минимум\n",
    "m = 10**6\n",
    "m = min(m, x) # x в этом случае та переменная минимум которой мы хотим найти\n",
    "\n",
    "# как найти максимум\n",
    "m = -10**6\n",
    "m = max(m, x) # x в этом случае та переменная максимум которой мы хотим найти"
   ]
  },
  {
   "cell_type": "markdown",
   "id": "91399bac",
   "metadata": {},
   "source": [
    "### 16 задание"
   ]
  },
  {
   "cell_type": "code",
   "execution_count": 4,
   "id": "8b877bbb",
   "metadata": {},
   "outputs": [
    {
     "name": "stdout",
     "output_type": "stream",
     "text": [
      "757543052.0\n"
     ]
    }
   ],
   "source": [
    "from sys import *\n",
    "setrecursionlimit(10**6)\n",
    "\n",
    "def f(n):\n",
    "    if n<5: # тут прописываем условие из задачи\n",
    "        return n # тут прописываем то что стоит после F(n)=\n",
    "    elif n>=5: # тут прописываем условие из задачи\n",
    "        return 2*n*f(n-4) # тут прописываем то что стоит после F(n)=\n",
    "\n",
    "print((f(13766)-9*f(13762))/f(13758)) # тут пишем то что нас просят найти"
   ]
  },
  {
   "cell_type": "markdown",
   "id": "4e2e9117",
   "metadata": {},
   "source": [
    "Если первые вариант не сработал"
   ]
  },
  {
   "cell_type": "code",
   "execution_count": 5,
   "id": "37fe6350",
   "metadata": {},
   "outputs": [
    {
     "name": "stdout",
     "output_type": "stream",
     "text": [
      "757543052.0\n"
     ]
    }
   ],
   "source": [
    "from functools import*\n",
    "@lru_cache(None)\n",
    "def f(n):\n",
    "    if n<5: # тут прописываем условие из задачи\n",
    "        return n # тут прописываем то что стоит после F(n)=\n",
    "    if n>=5: # тут прописываем условие из задачи\n",
    "        return 2*n*f(n-4) # тут прописываем то что стоит после F(n)=\n",
    "for i in range (0,100000):\n",
    "    f(i)\n",
    "print((f(13766)-9*f(13762))/f(13758)) # тут пишем то что нас просят найти"
   ]
  },
  {
   "cell_type": "markdown",
   "id": "c33bfb7f",
   "metadata": {},
   "source": [
    "### 23 задание"
   ]
  },
  {
   "cell_type": "code",
   "execution_count": 6,
   "id": "7f464f54",
   "metadata": {},
   "outputs": [
    {
     "name": "stdout",
     "output_type": "stream",
     "text": [
      "324\n"
     ]
    }
   ],
   "source": [
    "def f(x, y):\n",
    "    if x > y or x == 56: # x == 56 значит \"не содержит числа 56\"\n",
    "        return 0\n",
    "    elif x == y:\n",
    "        return 1\n",
    "    else:\n",
    "        return f(x + 3, y) + f(x + 7, y) + f(x * 3, y) # тут прописываем все возможные действия(тут прибавить 3, прибавить 7, умножить на 3)\n",
    "print(f(12, 40) * f(40, 72) * f(72, 89)) # такая запись значит \"содержит числа 40 и 72\""
   ]
  },
  {
   "cell_type": "markdown",
   "id": "1f563fe3",
   "metadata": {},
   "source": [
    "### Задание 2"
   ]
  },
  {
   "cell_type": "code",
   "execution_count": 7,
   "id": "04e71cb5",
   "metadata": {},
   "outputs": [
    {
     "name": "stdout",
     "output_type": "stream",
     "text": [
      "x y z w\n",
      "0 0 0 1\n",
      "0 1 0 1\n",
      "1 1 0 1\n"
     ]
    }
   ],
   "source": [
    "print('x y z w')\n",
    "for x in range(2):\n",
    "    for y in range(2):\n",
    "        for z in range(2):\n",
    "            for w in range(2):\n",
    "                f = not(x <= y) or (z == w) or z # тут прописываем условие из задачи\n",
    "                if f == 0: # тут ориентируемся на столбец F в таблице, которая приводится в условии\n",
    "                    print(x, y, z, w)"
   ]
  },
  {
   "cell_type": "markdown",
   "id": "80664a2a",
   "metadata": {},
   "source": [
    "∧ - and <br>\n",
    "∨ - or <br>\n",
    "≡ - == <br>\n",
    "¬ - not() <br>\n",
    "→ - <="
   ]
  },
  {
   "cell_type": "markdown",
   "id": "6666b4a1",
   "metadata": {},
   "source": [
    "### 6 задание"
   ]
  },
  {
   "cell_type": "markdown",
   "id": "b37742f8",
   "metadata": {},
   "source": [
    "Объединение - представляем что наши фигуры это одна большая фигура <br>\n",
    "Пересечение - берем только ту часть где фигуры пересекаются <br>\n",
    "Если ищем кол-во точек - то считаем сами точки <br>\n",
    "Если ищем площадь или периметр - то считаем отрезки между точками <br>"
   ]
  },
  {
   "cell_type": "code",
   "execution_count": null,
   "id": "396bd2b3",
   "metadata": {},
   "outputs": [],
   "source": [
    "from turtle import *\n",
    "screensize(2000, 2000) # размер окна\n",
    "tracer(0) # мгновенная отрисовка картинки\n",
    "k = 20 # масштаб: чем больше число тем ближе рисунок, и наоборот\n",
    "left(90)\n",
    "#ниже пише условие из задачи\n",
    "for i in range(2):\n",
    "    forward(28 * k)\n",
    "    right(90)\n",
    "    forward(18 * k)\n",
    "    right(90)\n",
    "pu()\n",
    "forward(14 * k)\n",
    "right(90)\n",
    "forward(10 * k)\n",
    "left(90)\n",
    "pd()\n",
    "for i in range(2):\n",
    "    forward(30 * k)\n",
    "    right(90)\n",
    "    forward(7 * k)\n",
    "    right(90)\n",
    "#выше пишем условие из задачи\n",
    "pu()\n",
    "for x in range(-20, 20): # ставим точки по x от -20 до 20\n",
    "    for y in range(-20, 20): # ставим точки по y от -20 до 20\n",
    "        goto(x * k, y * k) # идем в точку с координатами (x, y)\n",
    "        dot(3, 'red') # ставим красную точку размером 3\n",
    "mainloop()"
   ]
  },
  {
   "cell_type": "markdown",
   "id": "378e9bf4",
   "metadata": {},
   "source": [
    "pu() - поднять хвост <br>\n",
    "pd() - опустить хвост <br>\n",
    "forward() - вперед <br>\n",
    "backward() - назад <br>\n",
    "right() - вправо <br>\n",
    "left() - влево"
   ]
  },
  {
   "cell_type": "markdown",
   "id": "09298165",
   "metadata": {},
   "source": [
    "### 12 задание"
   ]
  },
  {
   "cell_type": "code",
   "execution_count": null,
   "id": "1beea721",
   "metadata": {},
   "outputs": [],
   "source": [
    "for n in range(4, 10_000):\n",
    "    s = '4' + '2' * n # создаем строку начинающуюся с цифры 4, за которой идет n цифр 2\n",
    "    while ('42' in s) or ('8222' in s) or ('2222' in s):\n",
    "        if '42' in s:\n",
    "            s = s.replace('42', '2', 1)\n",
    "        if '8222' in s:\n",
    "            s = s.replace('8222', '24', 1)\n",
    "        if '2222' in s:\n",
    "            s = s.replace('2222', '8', 1)\n",
    "    t = sum([int(x) for x in s]) # находим сумму цифр в строке\n",
    "    if t == 110:\n",
    "        print(n)"
   ]
  },
  {
   "cell_type": "markdown",
   "id": "148c6ff5",
   "metadata": {},
   "source": [
    "### 13 задание"
   ]
  },
  {
   "cell_type": "markdown",
   "id": "8b5d1bc7",
   "metadata": {},
   "source": [
    "Найти наибольший ip-адрес который может быть задан компьютеру"
   ]
  },
  {
   "cell_type": "code",
   "execution_count": 9,
   "id": "ad854654",
   "metadata": {},
   "outputs": [
    {
     "name": "stdout",
     "output_type": "stream",
     "text": [
      "143.168.72.222\n"
     ]
    }
   ],
   "source": [
    "from ipaddress import *\n",
    "net = ip_network('143.168.72.213/255.255.255.240', 0)\n",
    "print(net[-2])"
   ]
  },
  {
   "cell_type": "markdown",
   "id": "7deccf73",
   "metadata": {},
   "source": [
    "Посчитать сколько ip-адресов в двоичной записи имеют кол-во единиц не кратное двум"
   ]
  },
  {
   "cell_type": "code",
   "execution_count": null,
   "id": "95013580",
   "metadata": {},
   "outputs": [],
   "source": [
    "from ipaddress import *\n",
    "net = ip_network('172.16.80.0/255.255.248.0', 0)\n",
    "c = 0\n",
    "for ip in net:\n",
    "    t = f'{ip:b}' # перевод в двоичную\n",
    "    if t.count('1') % 2 != 0:\n",
    "        c += 1\n",
    "print(c)"
   ]
  },
  {
   "cell_type": "markdown",
   "id": "a7026453",
   "metadata": {},
   "source": [
    "Посчитать сколько максимум ip-адресов может быть в сети, если дан один ip-адрес компьютера и адрес сети"
   ]
  },
  {
   "cell_type": "code",
   "execution_count": null,
   "id": "70b245bd",
   "metadata": {},
   "outputs": [],
   "source": [
    "from ipaddress import *\n",
    "for mask in range(33):\n",
    "    net = ip_network(f'222.190.122.24/{mask}', 0)\n",
    "    if net[0] == IPv4Address('222.190.120.0'):\n",
    "        c = 0\n",
    "        for ip in net:\n",
    "            c += 1\n",
    "        print(mask, c)"
   ]
  },
  {
   "cell_type": "markdown",
   "id": "fa412042",
   "metadata": {},
   "source": [
    "### 14 задание"
   ]
  },
  {
   "cell_type": "code",
   "execution_count": null,
   "id": "df530e87",
   "metadata": {},
   "outputs": [],
   "source": [
    "for x in range(1, 2301):\n",
    "    a = 7**350 + 7**150 - x\n",
    "    sp = []\n",
    "    while a > 0: \n",
    "        sp.append(a % 7)\n",
    "        a = a // 7\n",
    "    if sp.count(0) == 200:\n",
    "        print(x)"
   ]
  },
  {
   "cell_type": "code",
   "execution_count": null,
   "id": "a4ea79f8",
   "metadata": {},
   "outputs": [],
   "source": [
    "for x in '0123456789ABCDEFGHIJK':\n",
    "    a = int('82934'+ x + '2', 21) + int('2924' + x + x + '7', 21) + int('67564' + x + '8', 21)\n",
    "    if a % 20 == 0:\n",
    "        print(x, a // 20)"
   ]
  },
  {
   "cell_type": "code",
   "execution_count": null,
   "id": "953d655e",
   "metadata": {},
   "outputs": [],
   "source": [
    "a = 15625**16 - 3125**3 * 25**19 + 625**4 - 2005\n",
    "sp = []\n",
    "while a > 0:\n",
    "    sp.append(a % 25)\n",
    "    a = a // 25\n",
    "print(sp.count(0))"
   ]
  },
  {
   "cell_type": "markdown",
   "id": "971c19a0",
   "metadata": {},
   "source": [
    "### 15 задание"
   ]
  },
  {
   "cell_type": "code",
   "execution_count": null,
   "id": "20e3ca54",
   "metadata": {},
   "outputs": [],
   "source": [
    "for a in range(1000):\n",
    "    flag = True\n",
    "    for x in range(1000):\n",
    "        if (((x & 52 != 0) and (x & 48 == 0)) <= (x & a != 0)) == 0: # тут прописываем условие из задачи, берем его в большие скобки и пишем противоположное (если истина - пишем == 0, если ложь - пишем == 1)\n",
    "            flag = False\n",
    "    if flag == True:\n",
    "        print(a)"
   ]
  },
  {
   "cell_type": "markdown",
   "id": "104c3530",
   "metadata": {},
   "source": [
    "### 5 задание"
   ]
  },
  {
   "cell_type": "markdown",
   "id": "67f545b6",
   "metadata": {},
   "source": [
    "Пример задачи с переводом в двоичную"
   ]
  },
  {
   "cell_type": "code",
   "execution_count": null,
   "id": "0b1c8353",
   "metadata": {},
   "outputs": [],
   "source": [
    "m = 10**6 # указываем 10**6, если ищем min; -10**6, если ищем max\n",
    "for n in range(1000):\n",
    "    s = bin(n)[2:]\n",
    "    t = sum([int(x) for x in s])\n",
    "    if t % 2 == 0:\n",
    "        s = '10' + s[2:] + '0'\n",
    "    else:\n",
    "        s = '11' + s[2:] + '1'\n",
    "    r = int(s, 2)\n",
    "    if r > 480:\n",
    "        m = min(m, n) # тут первое число всегда m, а второе - то которое ищем по условию\n",
    "print(m)"
   ]
  },
  {
   "cell_type": "markdown",
   "id": "78c83fb9",
   "metadata": {},
   "source": [
    "Пример задачи с переводом в троичную"
   ]
  },
  {
   "cell_type": "code",
   "execution_count": 2,
   "id": "7fd0755d",
   "metadata": {},
   "outputs": [
    {
     "name": "stdout",
     "output_type": "stream",
     "text": [
      "16\n"
     ]
    }
   ],
   "source": [
    "def f(n):\n",
    "    s = ''\n",
    "    while n > 0:\n",
    "        s = str(n % 3) + s\n",
    "        n = n // 3\n",
    "    return s\n",
    "\n",
    "m = -10**6 # указываем 10**6, если ищем min; -10**6, если ищем max\n",
    "for n in range(1, 1000):\n",
    "    s = f(n)\n",
    "    if n % 3 == 0:\n",
    "        s = s + s[-2:]\n",
    "    else:\n",
    "        s = s + f((n % 3) * 3)\n",
    "    r = int(s, 3)\n",
    "    if r <= 150:\n",
    "        m = max(m, n) # тут первое число всегда m, а второе - то которое ищем по условию\n",
    "print(m)"
   ]
  },
  {
   "cell_type": "markdown",
   "id": "f5bcf8b7",
   "metadata": {},
   "source": [
    "### 8 задание"
   ]
  },
  {
   "cell_type": "markdown",
   "id": "3d6538d3",
   "metadata": {},
   "source": [
    "Задание на составление слов"
   ]
  },
  {
   "cell_type": "code",
   "execution_count": null,
   "id": "f37d6297",
   "metadata": {},
   "outputs": [],
   "source": [
    "from itertools import *\n",
    "\n",
    "alph = 'КОТБУС'\n",
    "c = 0\n",
    "for i in product(alph, repeat=8):\n",
    "    slovo = ''.join(i)\n",
    "    if (slovo[0] not in 'ОУ') and ('КОТ' in slovo):\n",
    "        c += 1\n",
    "print(c)"
   ]
  },
  {
   "cell_type": "markdown",
   "id": "102f921e",
   "metadata": {},
   "source": [
    "Задание на составление чисел"
   ]
  },
  {
   "cell_type": "code",
   "execution_count": null,
   "id": "9733be3c",
   "metadata": {},
   "outputs": [],
   "source": [
    "from itertools import *\n",
    "\n",
    "alph = '0123456789'\n",
    "c = 0\n",
    "for i in permutations(alph, r=4):\n",
    "    chislo = ''.join(i)\n",
    "    if chislo[0] != '0':\n",
    "        for x in '02468':\n",
    "            chislo = chislo.replace(x, '+')\n",
    "        for x in '13579':\n",
    "            chislo = chislo.replace(x, '-')\n",
    "        if ('++' not in chislo) and ('--' not in chislo):\n",
    "            c += 1\n",
    "print(c)"
   ]
  },
  {
   "cell_type": "markdown",
   "id": "5b78c235",
   "metadata": {},
   "source": [
    "Задача на номер слова в списке"
   ]
  },
  {
   "cell_type": "code",
   "execution_count": null,
   "id": "d46d1f9a",
   "metadata": {},
   "outputs": [],
   "source": [
    "from itertools import*\n",
    "alph=\"АКМС\"\n",
    "c=0\n",
    "for i in product(alph,repeat=6):\n",
    "    c += 1\n",
    "    slovo = ''.join(i)\n",
    "    if (slovo.count('С') == 0) and (slovo.count('М') == 0) and (slovo.count('КК') == 0):\n",
    "        print(c)"
   ]
  },
  {
   "cell_type": "markdown",
   "id": "5ce92931",
   "metadata": {},
   "source": [
    "В задачах на составление чисел важно не забывать проверять что нулевой элемент не равен 0. <br>\n",
    "product(alph, repeat=5) - составляет все возможные слова из нашего alph, длиной 5 (буквы из alph могут повторяться) <br>\n",
    "permutations(alph, r=5) - составляет все возможные слова из нашего alph, длиной 5 (буквы из alph не повторяются)"
   ]
  },
  {
   "cell_type": "markdown",
   "id": "72f0fa6b",
   "metadata": {},
   "source": [
    "### 19-21 задания"
   ]
  },
  {
   "cell_type": "markdown",
   "id": "eb7dfce5",
   "metadata": {},
   "source": [
    "19 задание с 1 кучей"
   ]
  },
  {
   "cell_type": "code",
   "execution_count": null,
   "id": "98d21356",
   "metadata": {},
   "outputs": [],
   "source": [
    "def f(x, h):\n",
    "    if h == 3 and x >= 67:\n",
    "        return 1\n",
    "    elif h < 3 and x >= 67:\n",
    "        return 0\n",
    "    elif h == 3 and x < 67:\n",
    "        return 0\n",
    "    else:\n",
    "        if h % 2 == 0:\n",
    "            return f(x+1, h+1) or f(x+4, h+1) or f(x*3, h+1) # Ваня\n",
    "        else:\n",
    "            return f(x+1, h+1) and f(x+4, h+1) and f(x*3, h+1) # Петя\n",
    "\n",
    "# or - победителю\n",
    "# and - проигравшему\n",
    "# если написано про неудачный ход, то обоим or\n",
    "\n",
    "for s in range(1, 67):\n",
    "    if f(s, 1) == 1:\n",
    "        print(s)"
   ]
  },
  {
   "cell_type": "markdown",
   "id": "36cb39ba",
   "metadata": {},
   "source": [
    "20 задание с 1 кучей"
   ]
  },
  {
   "cell_type": "code",
   "execution_count": null,
   "id": "adc6feba",
   "metadata": {},
   "outputs": [],
   "source": [
    "def f(x, h):\n",
    "    if h == 4 and x >= 67:\n",
    "        return 1\n",
    "    elif h < 4 and x >= 67:\n",
    "        return 0\n",
    "    elif h == 4 and x < 67:\n",
    "        return 0\n",
    "    else:\n",
    "        if h % 2 == 0:\n",
    "            return f(x+1, h+1) and f(x+4, h+1) and f(x*3, h+1) # Ваня\n",
    "        else:\n",
    "            return f(x+1, h+1) or f(x+4, h+1) or f(x*3, h+1) # Петя\n",
    "\n",
    "# or - победителю\n",
    "# and - проигравшему\n",
    "# если написано про неудачный ход, то обоим or\n",
    "\n",
    "for s in range(1, 67):\n",
    "    if f(s, 1) == 1:\n",
    "        print(s)"
   ]
  },
  {
   "cell_type": "markdown",
   "id": "bfc332d0",
   "metadata": {},
   "source": [
    "21 задание с 1 кучей"
   ]
  },
  {
   "cell_type": "code",
   "execution_count": null,
   "id": "9bdf096d",
   "metadata": {},
   "outputs": [],
   "source": [
    "def f(x, h):\n",
    "    if (h == 3 or h == 5) and x >= 67:\n",
    "        return 1\n",
    "    elif h < 5 and x >= 67:\n",
    "        return 0\n",
    "    elif h == 5 and x < 67:\n",
    "        return 0\n",
    "    else:\n",
    "        if h % 2 == 0:\n",
    "            return f(x+1, h+1) or f(x+4, h+1) or f(x*3, h+1) # Ваня\n",
    "        else:\n",
    "            return f(x+1, h+1) and f(x+4, h+1) and f(x*3, h+1) # Петя\n",
    "\n",
    "def f1(x, h):\n",
    "    if h == 3 and x >= 67:\n",
    "        return 1\n",
    "    elif h < 3 and x >= 67:\n",
    "        return 0\n",
    "    elif h == 3 and x < 67:\n",
    "        return 0\n",
    "    else:\n",
    "        if h % 2 == 0:\n",
    "            return f1(x+1, h+1) or f1(x+4, h+1) or f1(x*3, h+1) # Ваня\n",
    "        else:\n",
    "            return f1(x+1, h+1) and f1(x+4, h+1) and f1(x*3, h+1) # Петя\n",
    "# or - победителю\n",
    "# and - проигравшему\n",
    "# если написано про неудачный ход, то обоим or\n",
    "\n",
    "for s in range(1, 67):\n",
    "    if f(s, 1) == 1:\n",
    "        print(s)\n",
    "print('-------')\n",
    "for s in range(1, 67):\n",
    "    if f1(s, 1) == 1:\n",
    "        print(s)"
   ]
  },
  {
   "cell_type": "markdown",
   "id": "65f9c758",
   "metadata": {},
   "source": [
    "19 задание с 2 кучами"
   ]
  },
  {
   "cell_type": "code",
   "execution_count": null,
   "id": "3c7ecba9",
   "metadata": {},
   "outputs": [],
   "source": [
    "def f(x, y, h):\n",
    "    if h == 3 and x+y >= 81:\n",
    "        return 1\n",
    "    elif h < 3 and x+y >= 81:\n",
    "        return 0\n",
    "    elif h == 3 and x+y < 81:\n",
    "        return 0\n",
    "    else:\n",
    "        if h % 2 == 0:\n",
    "            return f(x+1, y, h+1) or f(x*2, y, h+1) or f(x, y+1, h+1) or f(x, y*2, h+1) # Ваня\n",
    "        else:\n",
    "            return f(x+1, y, h+1) and f(x*2, y, h+1) and f(x, y+1, h+1) and f(x, y*2, h+1)# Петя\n",
    "\n",
    "# or - победителю\n",
    "# and - проигравшему\n",
    "# если написано про неудачный ход, то обоим or\n",
    "\n",
    "for s in range(1, 74):\n",
    "    if f(7, s, 1) == 1:\n",
    "        print(s)"
   ]
  },
  {
   "cell_type": "markdown",
   "id": "68a7bb19",
   "metadata": {},
   "source": [
    "### 9 задание"
   ]
  },
  {
   "cell_type": "code",
   "execution_count": null,
   "id": "e08e11b4",
   "metadata": {},
   "outputs": [],
   "source": [
    "f = open('9_19241.csv')\n",
    "c = 0\n",
    "for i in f:\n",
    "    c += 1\n",
    "    sp = [int(x) for x in i.split(';')]\n",
    "    b1 = []\n",
    "    b3 = []\n",
    "    for x in sp:\n",
    "        if sp.count(x) == 1: # считаем сколько чисел без повторений\n",
    "            b1.append(x)\n",
    "        elif sp.count(x) == 3: # считаем сколько чисел повторяются 3 раза\n",
    "            b3.append(x)\n",
    "    if len(b3) == 6 and len(b1) == 1:\n",
    "        if sum(b3)/len(b3) < b1[0]:\n",
    "            print(c)"
   ]
  },
  {
   "cell_type": "markdown",
   "id": "6b2ceda4",
   "metadata": {},
   "source": [
    "### 17 задание"
   ]
  },
  {
   "cell_type": "code",
   "execution_count": null,
   "id": "dc938c76",
   "metadata": {},
   "outputs": [],
   "source": [
    "f = open('17_21903.txt')\n",
    "sp = [int(i) for i in f]\n",
    "c = 0\n",
    "m = 10**6\n",
    "min_el = 10**6\n",
    "# ниже мы ищем минимальный трехзначный элемент оканчивающийся на 15\n",
    "for i in sp:\n",
    "    if (100 <= abs(i) <= 999) and (abs(i) % 100 == 15):\n",
    "        min_el = min(min_el, i)\n",
    "# ниже начинается основной цикл, в котором мы перебираем все тройки и проверяем подходят ли они под условия из задачи\n",
    "for i in range(len(sp)-2):\n",
    "    if (sp[i] >= 0 and sp[i+1] >= 0 and sp[i+2] >= 0) or (sp[i] < 0 and sp[i+1] < 0 and sp[i+2] < 0): # все числа в тройке одного знака\n",
    "        t = [sp[i], sp[i+1], sp[i+2]] # если нужно найти минимальный или максимальный элемент в тройке, удобно сделать из них мини-список\n",
    "        if min(t) * max(t) > min_el**2: # произведение минимального и максимального элемента тройки больше квадрата того минимального элемента который находили выше\n",
    "            c += 1\n",
    "            m = min(m, min(t) * max(t))\n",
    "print(c, m)"
   ]
  },
  {
   "cell_type": "markdown",
   "id": "404b09da",
   "metadata": {},
   "source": [
    "### 25 задание"
   ]
  },
  {
   "cell_type": "markdown",
   "id": "88df102e",
   "metadata": {},
   "source": [
    "Задание с масками чисел"
   ]
  },
  {
   "cell_type": "code",
   "execution_count": null,
   "id": "aca7f4e6",
   "metadata": {},
   "outputs": [],
   "source": [
    "from fnmatch import *\n",
    "\n",
    "for x in range(0, 10**11, 154682): # число кратно 154682\n",
    "    if fnmatch(str(x), '*192?3*68') == 1: # число подходит под маску *192?3*68\n",
    "        print(x, x // 154682)"
   ]
  },
  {
   "cell_type": "markdown",
   "id": "b3beee16",
   "metadata": {},
   "source": [
    "Задание с поиском делителей"
   ]
  },
  {
   "cell_type": "code",
   "execution_count": null,
   "id": "a779ed58",
   "metadata": {},
   "outputs": [],
   "source": [
    "def f(n): # эта функция ищет все делители числа кроме 1 и самого числа (если хотим учитывать 1 и само число, то делаем range(1, int(n**0.5)+1))\n",
    "    t = set()\n",
    "    for i in range(2, int(n**0.5)+1):\n",
    "        if n % i == 0:\n",
    "            t.add(i)\n",
    "            t.add(n // i)\n",
    "    return sorted(list(t))\n",
    "\n",
    "for x in range(1_125_001, 1_125_101):\n",
    "    sp = f(x) # тут в sp записывам список из всех делителей числа x\n",
    "    for i in sp:\n",
    "        if (i % 10 == 7) and (i != 7) and (i != x):\n",
    "            print(x, i)\n",
    "            break"
   ]
  },
  {
   "cell_type": "markdown",
   "id": "e78cddd8",
   "metadata": {},
   "source": [
    "### 27 задание"
   ]
  },
  {
   "cell_type": "code",
   "execution_count": null,
   "id": "9061a109",
   "metadata": {},
   "outputs": [],
   "source": [
    "f = open('27_B_17882.txt')\n",
    "clusters = [[] for i in range(3)] # тут указываем количество кластеров\n",
    "for i in range(100000):\n",
    "    star = list(map(float, f.readline().replace(',', '.').split()))\n",
    "    if len(star) == 2:\n",
    "        x, y = star[0], star[1]\n",
    "        # ниже прописываем условия полученные из экселя\n",
    "        if x < 5 and y < 4:\n",
    "            clusters[0].append(star)\n",
    "        elif x < 5 and y > 4:\n",
    "            clusters[1].append(star)\n",
    "        elif x > 5 and y > 4:\n",
    "            clusters[2].append(star)\n",
    "        # дальше почти не трогаем\n",
    "sp_x = []\n",
    "sp_y = []\n",
    "tx = ty = 0\n",
    "for i in clusters:\n",
    "    minimal = 10**10 # если речь идет о поиске КРАЯ кластера, а не центра, то тут делаем -10**10\n",
    "    for j in i:\n",
    "        x1, y1 = j\n",
    "        summa = 0\n",
    "        for k in i:\n",
    "            x2, y2 = k\n",
    "            summa += ((x2-x1)**2 + (y2-y1)**2)**0.5\n",
    "        if summa < minimal: # если речь идет о поиске КРАЯ кластера, а не центра, то тут делаем summa > minimal\n",
    "            minimal = summa\n",
    "            tx = x1\n",
    "            ty = y1\n",
    "    sp_x.append(tx)\n",
    "    sp_y.append(ty)\n",
    "print(sp_x) # Это координаты по x всех центров\n",
    "print(sp_y) # Это координаты по y всех центров"
   ]
  },
  {
   "cell_type": "markdown",
   "id": "7da33dd6",
   "metadata": {},
   "source": [
    "### 24 задание"
   ]
  },
  {
   "cell_type": "code",
   "execution_count": null,
   "id": "30cc7acb",
   "metadata": {},
   "outputs": [],
   "source": [
    "f = open('24_21908.txt').readline()\n",
    "for i in 'EFGHIJKLMNOPQRSTUVWXYZ':\n",
    "    f = f.replace(i, ' ')\n",
    "sp = f.split()\n",
    "c = 0\n",
    "res = 0\n",
    "for i in sp:\n",
    "    t = i\n",
    "    while len(t) > 0 and t[0] == '0': # если число начинается с нуля, то отрезаем по 1 цифре из начала числа\n",
    "        t = t[1:]\n",
    "    while (len(t) > 0) and (t[-1] not in '02468AС'): # если число получилось нечетным, то отрезаем по 1 цифре из конца числа\n",
    "        t = t[:-1]\n",
    "    if (len(t) > 0) and (t[-1] in '02468AС'):\n",
    "        if int(t, 14) > c:\n",
    "            c = int(t,14)\n",
    "            res = t\n",
    "print(len(res))"
   ]
  }
 ],
 "metadata": {
  "kernelspec": {
   "display_name": ".venv",
   "language": "python",
   "name": "python3"
  },
  "language_info": {
   "codemirror_mode": {
    "name": "ipython",
    "version": 3
   },
   "file_extension": ".py",
   "mimetype": "text/x-python",
   "name": "python",
   "nbconvert_exporter": "python",
   "pygments_lexer": "ipython3",
   "version": "3.12.3"
  }
 },
 "nbformat": 4,
 "nbformat_minor": 5
}
