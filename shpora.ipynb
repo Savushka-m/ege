{
 "cells": [
  {
   "cell_type": "code",
   "execution_count": null,
   "id": "b45fb84d",
   "metadata": {},
   "outputs": [],
   "source": [
    "# Полезные кусочки кода\n",
    "t = sum([int(x) for x in s]) # находим сумму цифр в строке s\n",
    "t = s.count('5') # находим сколько раз встречается цифра 5 (или другая которую укажете) в строке s\n",
    "if int(x**0.5)**2 == x: # проверка что число x является полным квадратом"
   ]
  },
  {
   "cell_type": "markdown",
   "id": "91399bac",
   "metadata": {},
   "source": [
    "### 16 задание"
   ]
  },
  {
   "cell_type": "code",
   "execution_count": 4,
   "id": "8b877bbb",
   "metadata": {},
   "outputs": [
    {
     "name": "stdout",
     "output_type": "stream",
     "text": [
      "757543052.0\n"
     ]
    }
   ],
   "source": [
    "from sys import *\n",
    "setrecursionlimit(10**6)\n",
    "\n",
    "def f(n):\n",
    "    if n<5: # тут прописываем условие из задачи\n",
    "        return n # тут прописываем то что стоит после F(n)=\n",
    "    elif n>=5: # тут прописываем условие из задачи\n",
    "        return 2*n*f(n-4) # тут прописываем то что стоит после F(n)=\n",
    "\n",
    "print((f(13766)-9*f(13762))/f(13758)) # тут пишем то что нас просят найти"
   ]
  },
  {
   "cell_type": "markdown",
   "id": "4e2e9117",
   "metadata": {},
   "source": [
    "Если первые вариант не сработал"
   ]
  },
  {
   "cell_type": "code",
   "execution_count": 5,
   "id": "37fe6350",
   "metadata": {},
   "outputs": [
    {
     "name": "stdout",
     "output_type": "stream",
     "text": [
      "757543052.0\n"
     ]
    }
   ],
   "source": [
    "from functools import*\n",
    "@lru_cache(None)\n",
    "def f(n):\n",
    "    if n<5: # тут прописываем условие из задачи\n",
    "        return n # тут прописываем то что стоит после F(n)=\n",
    "    if n>=5: # тут прописываем условие из задачи\n",
    "        return 2*n*f(n-4) # тут прописываем то что стоит после F(n)=\n",
    "for i in range (0,100000):\n",
    "    f(i)\n",
    "print((f(13766)-9*f(13762))/f(13758)) # тут пишем то что нас просят найти"
   ]
  },
  {
   "cell_type": "markdown",
   "id": "c33bfb7f",
   "metadata": {},
   "source": [
    "### 23 задание"
   ]
  },
  {
   "cell_type": "code",
   "execution_count": 6,
   "id": "7f464f54",
   "metadata": {},
   "outputs": [
    {
     "name": "stdout",
     "output_type": "stream",
     "text": [
      "324\n"
     ]
    }
   ],
   "source": [
    "def f(x, y):\n",
    "    if x > y or x == 56: # x == 56 значит \"не содержит числа 56\"\n",
    "        return 0\n",
    "    elif x == y:\n",
    "        return 1\n",
    "    else:\n",
    "        return f(x + 3, y) + f(x + 7, y) + f(x * 3, y) # тут прописываем все возможные действия(тут прибавить 3, прибавить 7, умножить на 3)\n",
    "print(f(12, 40) * f(40, 72) * f(72, 89)) # такая запись значит \"содержит числа 40 и 72\""
   ]
  },
  {
   "cell_type": "markdown",
   "id": "1f563fe3",
   "metadata": {},
   "source": [
    "### Задание 2"
   ]
  },
  {
   "cell_type": "code",
   "execution_count": 7,
   "id": "04e71cb5",
   "metadata": {},
   "outputs": [
    {
     "name": "stdout",
     "output_type": "stream",
     "text": [
      "x y z w\n",
      "0 0 0 1\n",
      "0 1 0 1\n",
      "1 1 0 1\n"
     ]
    }
   ],
   "source": [
    "print('x y z w')\n",
    "for x in range(2):\n",
    "    for y in range(2):\n",
    "        for z in range(2):\n",
    "            for w in range(2):\n",
    "                f = not(x <= y) or (z == w) or z # тут прописываем условие из задачи\n",
    "                if f == 0: # тут ориентируемся на столбец F в таблице, которая приводится в условии\n",
    "                    print(x, y, z, w)"
   ]
  },
  {
   "cell_type": "markdown",
   "id": "80664a2a",
   "metadata": {},
   "source": [
    "∧ - and <br>\n",
    "∨ - or <br>\n",
    "≡ - == <br>\n",
    "¬ - not() <br>\n",
    "→ - <="
   ]
  },
  {
   "cell_type": "markdown",
   "id": "6666b4a1",
   "metadata": {},
   "source": [
    "### 6 задание"
   ]
  },
  {
   "cell_type": "markdown",
   "id": "b37742f8",
   "metadata": {},
   "source": [
    "Объединение - представляем что наши фигуры это одна большая фигура <br>\n",
    "Пересечение - берем только ту часть где фигуры пересекаются <br>\n",
    "Если ищем кол-во точек - то считаем сами точки <br>\n",
    "Если ищем площадь или периметр - то считаем отрезки между точками <br>"
   ]
  },
  {
   "cell_type": "code",
   "execution_count": null,
   "id": "396bd2b3",
   "metadata": {},
   "outputs": [],
   "source": [
    "from turtle import *\n",
    "screensize(2000, 2000) # размер окна\n",
    "tracer(0) # мгновенная отрисовка картинки\n",
    "k = 20 # масштаб: чем больше число тем ближе рисунок, и наоборот\n",
    "left(90)\n",
    "#ниже пише условие из задачи\n",
    "for i in range(2):\n",
    "    forward(28 * k)\n",
    "    right(90)\n",
    "    forward(18 * k)\n",
    "    right(90)\n",
    "pu()\n",
    "forward(14 * k)\n",
    "right(90)\n",
    "forward(10 * k)\n",
    "left(90)\n",
    "pd()\n",
    "for i in range(2):\n",
    "    forward(30 * k)\n",
    "    right(90)\n",
    "    forward(7 * k)\n",
    "    right(90)\n",
    "#выше пишем условие из задачи\n",
    "pu()\n",
    "for x in range(-20, 20): # ставим точки по x от -20 до 20\n",
    "    for y in range(-20, 20): # ставим точки по y от -20 до 20\n",
    "        goto(x * k, y * k) # идем в точку с координатами (x, y)\n",
    "        dot(3, 'red') # ставим красную точку размером 3\n",
    "mainloop()"
   ]
  },
  {
   "cell_type": "markdown",
   "id": "378e9bf4",
   "metadata": {},
   "source": [
    "pu() - поднять хвост <br>\n",
    "pd() - опустить хвост <br>\n",
    "forward() - вперед <br>\n",
    "backward() - назад <br>\n",
    "right() - вправо <br>\n",
    "left() - влево"
   ]
  },
  {
   "cell_type": "markdown",
   "id": "09298165",
   "metadata": {},
   "source": [
    "### 12 задание"
   ]
  },
  {
   "cell_type": "code",
   "execution_count": null,
   "id": "1beea721",
   "metadata": {},
   "outputs": [],
   "source": [
    "for n in range(4, 10_000):\n",
    "    s = '4' + '2' * n # создаем строку начинающуюся с цифры 4, за которой идет n цифр 2\n",
    "    while ('42' in s) or ('8222' in s) or ('2222' in s):\n",
    "        if '42' in s:\n",
    "            s = s.replace('42', '2', 1)\n",
    "        if '8222' in s:\n",
    "            s = s.replace('8222', '24', 1)\n",
    "        if '2222' in s:\n",
    "            s = s.replace('2222', '8', 1)\n",
    "    t = sum([int(x) for x in s]) # находим сумму цифр в строке\n",
    "    if t == 110:\n",
    "        print(n)"
   ]
  },
  {
   "cell_type": "markdown",
   "id": "148c6ff5",
   "metadata": {},
   "source": [
    "### 13 задание"
   ]
  },
  {
   "cell_type": "markdown",
   "id": "8b5d1bc7",
   "metadata": {},
   "source": [
    "Найти наименьший ip-адрес который может быть задан компьютеру"
   ]
  },
  {
   "cell_type": "code",
   "execution_count": 9,
   "id": "ad854654",
   "metadata": {},
   "outputs": [
    {
     "name": "stdout",
     "output_type": "stream",
     "text": [
      "143.168.72.222\n"
     ]
    }
   ],
   "source": [
    "from ipaddress import *\n",
    "net = ip_network('143.168.72.213/255.255.255.240', 0)\n",
    "print(net[-2])"
   ]
  },
  {
   "cell_type": "markdown",
   "id": "7deccf73",
   "metadata": {},
   "source": [
    "Посчитать сколько ip-адресов в двоичной записи имеют кол-во единиц не кратное двум"
   ]
  },
  {
   "cell_type": "code",
   "execution_count": null,
   "id": "95013580",
   "metadata": {},
   "outputs": [],
   "source": [
    "from ipaddress import *\n",
    "net = ip_network('172.16.80.0/255.255.248.0', 0)\n",
    "c = 0\n",
    "for ip in net:\n",
    "    t = f'{ip:b}' # перевод в двоичную\n",
    "    if t.count('1') % 2 != 0:\n",
    "        c += 1\n",
    "print(c)"
   ]
  },
  {
   "cell_type": "markdown",
   "id": "a7026453",
   "metadata": {},
   "source": [
    "Посчитать сколько максимум ip-адресов может быть в сети, если дан один ip-адрес компьютера и адрес сети"
   ]
  },
  {
   "cell_type": "code",
   "execution_count": null,
   "id": "70b245bd",
   "metadata": {},
   "outputs": [],
   "source": [
    "from ipaddress import *\n",
    "for mask in range(33):\n",
    "    net = ip_network(f'222.190.122.24/{mask}', 0)\n",
    "    if net[0] == IPv4Address('222.190.120.0'):\n",
    "        c = 0\n",
    "        for ip in net:\n",
    "            c += 1\n",
    "        print(mask, c)"
   ]
  },
  {
   "cell_type": "code",
   "execution_count": null,
   "id": "05dca203",
   "metadata": {},
   "outputs": [],
   "source": []
  }
 ],
 "metadata": {
  "kernelspec": {
   "display_name": ".venv",
   "language": "python",
   "name": "python3"
  },
  "language_info": {
   "codemirror_mode": {
    "name": "ipython",
    "version": 3
   },
   "file_extension": ".py",
   "mimetype": "text/x-python",
   "name": "python",
   "nbconvert_exporter": "python",
   "pygments_lexer": "ipython3",
   "version": "3.12.3"
  }
 },
 "nbformat": 4,
 "nbformat_minor": 5
}
